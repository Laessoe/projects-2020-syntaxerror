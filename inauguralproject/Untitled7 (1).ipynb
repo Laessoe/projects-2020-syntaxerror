{
 "cells": [
  {
   "cell_type": "code",
   "execution_count": 1,
   "metadata": {},
   "outputs": [
    {
     "name": "stdout",
     "output_type": "stream",
     "text": [
      "The autoreload extension is already loaded. To reload it, use:\n",
      "  %reload_ext autoreload\n"
     ]
    }
   ],
   "source": [
    "import numpy as np\n",
    "from scipy import optimize \n",
    "# autoreload modules when code is run\n",
    "%load_ext autoreload\n",
    "%autoreload 2\n",
    "\n",
    "%matplotlib inline\n",
    "%load_ext autoreload\n",
    "%autoreload 2\n",
    "\n",
    "import matplotlib.pyplot as plt\n",
    "plt.style.use('seaborn-whitegrid')\n",
    "prop_cycle = plt.rcParams['axes.prop_cycle']\n",
    "colors = prop_cycle.by_key()['color']\n",
    "from mpl_toolkits.mplot3d import Axes3D\n",
    "from mpl_toolkits.mplot3d.art3d import Poly3DCollection, Line3DCollection\n",
    "import ipywidgets as widgets"
   ]
  },
  {
   "cell_type": "code",
   "execution_count": 2,
   "metadata": {},
   "outputs": [
    {
     "name": "stdout",
     "output_type": "stream",
     "text": [
      "Optimal labour supply is 0.382\n",
      "Optimal consumption is 1.231\n",
      "maximized utility is 0.172\n"
     ]
    },
    {
     "name": "stderr",
     "output_type": "stream",
     "text": [
      "/Applications/anaconda3/lib/python3.7/site-packages/ipykernel_launcher.py:12: RuntimeWarning: invalid value encountered in log\n",
      "  if sys.path[0] == '':\n"
     ]
    }
   ],
   "source": [
    "m = 1\n",
    "v = 10 \n",
    "e = 0.3\n",
    "t0 = 0.4\n",
    "t1 = 0.1\n",
    "k = 0.4\n",
    "w = 1\n",
    "\n",
    "# We define the utility \n",
    "\n",
    "def utility(c, l, v, e):\n",
    "    u = np.log(c) - v*((l**(1+(1/e)))/(1+(1/e)))\n",
    "    return u\n",
    "\n",
    "def budget(l, w, m, t0, t1, k):\n",
    "    max_value = np.max(w*l-k,0)\n",
    "    x = m + w*l - (t0*w*l + t1*max_value)\n",
    "    return x\n",
    "\n",
    "\n",
    "# We now define the objective function\n",
    "def obj(l, w, e, t0, t1, k , v, m):\n",
    "    c = budget(m = m, w = w, l = l, t0 = t0, t1 = t1, k = k )\n",
    "    return -utility(l = l, c = c, e = e, v = v)\n",
    "\n",
    "# We define the optimizer and find optimum \n",
    "def optimizer(w, e, v, t0, t1, k, m):\n",
    "    sol = optimize.minimize_scalar(obj, method = 'bounded', bounds = (0,1), args = (w, e, v, t0, t1, k, m))\n",
    "    l_best = sol.x\n",
    "    c_best = budget(m = m, w = w, l = l_best, t0 = t0, t1 = t1, k = k)\n",
    "    u_best = utility(l = l_best, c = c_best, e = e, v = v)\n",
    "\n",
    "    return l_best, c_best, u_best\n",
    "\n",
    "l_best, c_best, u_best = optimizer(w = w, e = e,v = v,t0 = t0,t1 = t1,k = k, m = m)\n",
    "\n",
    "# f. print resultat\n",
    "print(f'Optimal labour supply is {l_best:.3f}')\n",
    "print(f'Optimal consumption is {c_best:.3f}')\n",
    "print(f'maximized utility is {u_best:.3f}')"
   ]
  },
  {
   "cell_type": "code",
   "execution_count": 3,
   "metadata": {},
   "outputs": [
    {
     "name": "stderr",
     "output_type": "stream",
     "text": [
      "/Applications/anaconda3/lib/python3.7/site-packages/ipykernel_launcher.py:12: RuntimeWarning: invalid value encountered in log\n",
      "  if sys.path[0] == '':\n"
     ]
    },
    {
     "data": {
      "image/png": "[encoded data removed]",
      "text/plain": [
       "<Figure size 720x360 with 2 Axes>"
      ]
     },
     "metadata": {},
     "output_type": "display_data"
    }
   ],
   "source": [
    "plt.style.use('ggplot')\n",
    "N=10000\n",
    "w_vec = np.linspace(0.5, 1.5, num=N)\n",
    "#Create some empty list\n",
    "\n",
    "\n",
    "l_opt = np.empty(N)\n",
    "c_opt = np.empty(N)\n",
    "\n",
    "\n",
    "for i,w in enumerate(w_vec):\n",
    "    opt = optimizer(w,e,v,t0,t1,k,m)\n",
    "    l_opt[i] = opt[0]\n",
    "    c_opt[i] = opt[1]\n",
    "\n",
    "# a. create a figure\n",
    "fig = plt.figure(figsize=(10,5))\n",
    "\n",
    "# c. left plot\n",
    "ax_left = fig.add_subplot(1,2,1)\n",
    "\n",
    "ax_left.plot(w_vec,l_opt)\n",
    "\n",
    "ax_left.set_title('Optimal labour supply given wage')\n",
    "ax_left.set_xlabel('$w$')\n",
    "ax_left.set_ylabel('$l^\\star$')\n",
    "ax_left.grid(True)\n",
    "\n",
    "# c. right plot\n",
    "ax_right = fig.add_subplot(1,2,2)\n",
    "\n",
    "ax_right.plot(w_vec,c_opt)\n",
    "\n",
    "ax_right.set_title('Optimal consumption given wage')\n",
    "ax_right.set_xlabel('$w$')\n",
    "ax_right.set_ylabel('$c^\\star$')\n",
    "ax_right.grid(True)\n",
    "\n",
    "plt.show()\n"
   ]
  },
  {
   "cell_type": "code",
   "execution_count": 4,
   "metadata": {},
   "outputs": [
    {
     "name": "stdout",
     "output_type": "stream",
     "text": [
      "Sum of the tax revenue: 1567.02\n"
     ]
    }
   ],
   "source": [
    "#we'll now define a tax revenue function, which will reuse the values for w and l from above\n",
    "def tax_revenue(w_vec,l_best,t0,t1,k):\n",
    "    revenue = np.sum(t0*w_vec*l_best + t1*np.maximum(w_vec*l_best-k,0))\n",
    "    return revenue\n",
    "\n",
    "# Printing the value of the tax revenue\n",
    "print(f'Sum of the tax revenue: {tax_revenue(w_vec,l_best,t0,t1,k):.2f}')"
   ]
  },
  {
   "cell_type": "code",
   "execution_count": 10,
   "metadata": {},
   "outputs": [],
   "source": [
    "e2 = 0.1\n",
    "\n",
    "# We rename the empty tuples such that we do not overwrite the previous stated tuples\n",
    "c_1_values=np.empty(N)\n",
    "l_1_values=np.empty(N)\n",
    "w_1_values=np.empty(N)\n",
    "\n",
    "# Reusing code from question 2\n",
    "def u_func(c,l):\n",
    "    return np.log(c) - (v * (l**(1+1/e2))/(1+1/e2))\n",
    "\n",
    "def value_of_choice(l,m,v,e2,t0,t1,k,w):\n",
    "    c = m+w*l-(t0*w*l+t1*np.maximum(w*l-k,0))\n",
    "    return -u_func(c,l)\n",
    "\n",
    "for i,w in enumerate(np.linspace(0.5,1.5,10000)):\n",
    "\n",
    "    solver = optimize.minimize_scalar(\n",
    "        value_of_choice,method='bounded',\n",
    "        bounds=(0,1),args=(m,v,e2,t0,t1,k,w))\n",
    "\n",
    "    l = solver.x\n",
    "    c = m+w*l-(t0*w*l+t1*np.maximum(w*l-k,0))\n",
    "\n",
    "    c_1_values[i] = c\n",
    "    l_1_values[i] = l\n",
    "    w_1_values[i] = w"
   ]
  },
  {
   "cell_type": "code",
   "execution_count": 11,
   "metadata": {},
   "outputs": [
    {
     "name": "stdout",
     "output_type": "stream",
     "text": [
      "Sum of the tax revenue: 3196.88\n"
     ]
    }
   ],
   "source": [
    "def tax_revenue_1(w_1_values,l_1_values,t0,t1,k):\n",
    "    revenue = np.sum(t0*w_1_values*l_1_values + t1*np.maximum(w_1_values*l_1_values-k,0))\n",
    "    return revenue\n",
    "\n",
    "print(f'Sum of the tax revenue: {tax_revenue_1(w_1_values,l_1_values,t0,t1,k):.2f}')"
   ]
  },
  {
   "cell_type": "code",
   "execution_count": null,
   "metadata": {},
   "outputs": [],
   "source": []
  }
 ],
 "metadata": {
  "kernelspec": {
   "display_name": "Python 3",
   "language": "python",
   "name": "python3"
  },
  "language_info": {
   "codemirror_mode": {
    "name": "ipython",
    "version": 3
   },
   "file_extension": ".py",
   "mimetype": "text/x-python",
   "name": "python",
   "nbconvert_exporter": "python",
   "pygments_lexer": "ipython3",
   "version": "3.7.4"
  }
 },
 "nbformat": 4,
 "nbformat_minor": 4
}
