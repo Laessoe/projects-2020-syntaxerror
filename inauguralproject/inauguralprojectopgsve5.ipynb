{
 "cells": [
  {
   "cell_type": "markdown",
   "metadata": {},
   "source": [
    "# Inaugural Project"
   ]
  },
  {
   "cell_type": "markdown",
   "metadata": {},
   "source": [
    "> **Note the following:** \n",
    "> 1. This is an example of how to structure your **inaugural project**.\n",
    "> 1. Remember the general advice on structuring and commenting your code from [lecture 5](https://numeconcopenhagen.netlify.com/lectures/Workflow_and_debugging).\n",
    "> 1. Remember this [guide](https://www.markdownguide.org/basic-syntax/) on markdown and (a bit of) latex.\n",
    "> 1. Turn on automatic numbering by clicking on the small icon on top of the table of contents in the left sidebar.\n",
    "> 1. The `inauguralproject.py` file includes a function which can be used multiple times in this notebook."
   ]
  },
  {
   "cell_type": "markdown",
   "metadata": {},
   "source": [
    "Imports and set magics:"
   ]
  },
  {
   "cell_type": "code",
   "execution_count": 1,
   "metadata": {},
   "outputs": [
    {
     "name": "stdout",
     "output_type": "stream",
     "text": [
      "The autoreload extension is already loaded. To reload it, use:\n",
      "  %reload_ext autoreload\n"
     ]
    }
   ],
   "source": [
    "import numpy as np\n",
    "from scipy import optimize \n",
    "# autoreload modules when code is run\n",
    "%load_ext autoreload\n",
    "%autoreload 2\n",
    "\n",
    "# local modules\n",
    "import inauguralproject\n",
    "\n",
    "\n",
    "%matplotlib inline\n",
    "%load_ext autoreload\n",
    "%autoreload 2\n",
    "\n",
    "import matplotlib.pyplot as plt\n",
    "plt.style.use('seaborn-whitegrid')\n",
    "prop_cycle = plt.rcParams['axes.prop_cycle']\n",
    "colors = prop_cycle.by_key()['color']\n",
    "from mpl_toolkits.mplot3d import Axes3D\n",
    "from mpl_toolkits.mplot3d.art3d import Poly3DCollection, Line3DCollection\n",
    "import ipywidgets as widgets\n"
   ]
  },
  {
   "cell_type": "markdown",
   "metadata": {
    "toc-hr-collapsed": true
   },
   "source": [
    "# Question 1"
   ]
  },
  {
   "cell_type": "markdown",
   "metadata": {},
   "source": [
    "We want to optimize the model, we do so by first defining the parameters given in the assignment, and then ressource constraint and the utility function. We maximize the utility function with respect to the ressource constraint. When using scipy we need to return the negative value of the utility when defining our value of choice function, as it is defined as a minimizer. \n",
    "The utility is monotonically increasing in consumption.  "
   ]
  },
  {
   "cell_type": "code",
   "execution_count": 2,
   "metadata": {},
   "outputs": [
    {
     "name": "stdout",
     "output_type": "stream",
     "text": [
      "When optimizing the function we find the optimal labour supply to be 0.691 and the optimal consumption 1.207 which gives us a utility of 0.173.\n"
     ]
    }
   ],
   "source": [
    "m = 1 \n",
    "v = 10\n",
    "e = 0.1\n",
    "t0 = 0.4\n",
    "t1 = 0.1\n",
    "k = 0.4\n",
    "w = 0.5\n",
    "\n",
    "def utility(c, v, l, e):\n",
    "    u = np.log(c) - v*(l**(1+1/e)/(1+1/e))\n",
    "    return u\n",
    "\n",
    "#1.d. Defining constraints\n",
    "def constraint(m, l, w, t0, t1, k):\n",
    "    x = m+w*l-w*l*t0-t1*max((w*l-k),0)\n",
    "    return x\n",
    "\n",
    "#1.e. Objective function to minimize\n",
    "def value_of_choice(l,w,e,v, t0, t1, k):\n",
    "    c = constraint(m, l, w, t0, t1, k)\n",
    "    return -utility(c, v, l, e)\n",
    "\n",
    "#1.f. define a solver\n",
    "def solver(m, w, e, v, t0, t1, k):\n",
    "    sol_case1 = optimize.minimize_scalar(\n",
    "        value_of_choice,method='bounded',\n",
    "        bounds=(0,1),args=(w,e,v,t0,t1,k))\n",
    "    l_best = sol_case1.x\n",
    "    c_best = constraint(m,l_best, w, t0, t1, k)\n",
    "    u_best = utility(c=c_best, v=v, l=l_best, e=e)\n",
    "    return l_best, c_best, u_best\n",
    "\n",
    "l_best, c_best, u_best = solver(m = m, w = w, e = e,v = v,t0 = t0,t1 = t1,k = k)\n",
    "# f. print resultat\n",
    "\n",
    "print(f'When optimizing the function we find the optimal labour supply to be {l_best:.3f}' , f'and the optimal consumption {c_best:.3f}' f' which gives us a utility of {u_best:.3f}.')\n",
    "   "
   ]
  },
  {
   "cell_type": "markdown",
   "metadata": {},
   "source": [
    "# Question 2"
   ]
  },
  {
   "cell_type": "markdown",
   "metadata": {},
   "source": [
    "We first construct a vector of wages between the values of 0.5 and 1.5. Then we plot the optimal labour supply and consumption as a function of wage. \n"
   ]
  },
  {
   "cell_type": "code",
   "execution_count": 3,
   "metadata": {},
   "outputs": [
    {
     "data": {
      "image/png": "[encoded data removed]",
      "text/plain": [
       "<Figure size 720x288 with 2 Axes>"
      ]
     },
     "metadata": {
      "needs_background": "light"
     },
     "output_type": "display_data"
    }
   ],
   "source": [
    "\n",
    "# 2.a. define storage vectors and data for w.\n",
    "N = 1000\n",
    "w_vec = np.linspace(0.5, 1.5, N)\n",
    "l_vec = np.empty(N)\n",
    "c_vec = np.empty(N)\n",
    "\n",
    "# 2.b. loop through different w and get optima of l and c for each w in w_vec\n",
    "for i, w in enumerate(w_vec):\n",
    "    bundle = solver(w = w,e = 0.3,v = v,t0 = t0,t1 = t1,k = k,m = m)\n",
    "    l_vec[i] = bundle[0]\n",
    "    c_vec[i] = bundle[1]\n",
    "\n",
    "# 2.c. plotting figure.\n",
    "fig = plt.figure(figsize=(10,4)) # dpi = dots-per-inch (resolution)\n",
    "\n",
    "ax_left = fig.add_subplot(1,2,1)\n",
    "ax_left.plot(w_vec,l_vec,ls='--',lw=2,color='black',label='Labour')\n",
    "\n",
    "#2.c.1 left figure is labour supple\n",
    "ax_left.set_title('Optimal supply of labour given w')\n",
    "ax_left.set_xlabel('$w$')\n",
    "ax_left.set_ylabel('$l$')\n",
    "ax_left.grid(True)\n",
    "\n",
    "#2.c.2 right figure is consumption\n",
    "ax_right = fig.add_subplot(1,2,2)\n",
    "ax_right.plot(w_vec,c_vec)\n",
    "\n",
    "ax_right.set_title('Optimal consumption given w')\n",
    "ax_right.set_xlabel('$w$')\n",
    "ax_right.set_ylabel('$C$')\n",
    "ax_right.grid(True)\n",
    "plt.show()\n"
   ]
  },
  {
   "cell_type": "markdown",
   "metadata": {},
   "source": [
    "# Question 3"
   ]
  },
  {
   "cell_type": "markdown",
   "metadata": {},
   "source": [
    "ADD ANSWER."
   ]
  },
  {
   "cell_type": "code",
   "execution_count": 4,
   "metadata": {},
   "outputs": [
    {
     "name": "stdout",
     "output_type": "stream",
     "text": [
      "Sum of the tax revenue: 305.76\n"
     ]
    }
   ],
   "source": [
    "N = 10000 \n",
    "np.random.seed(100)\n",
    "w_list = np.random.uniform(low=0.5,high=1.5,size=N)\n",
    "\n",
    "#we'll now define a tax revenue function, which will reuse the values for w and l from above\n",
    "def tax_revenue(w_vec,l_best,t0,t1,k):\n",
    "    revenue = np.sum(t0*w_vec*l_best + t1*np.maximum(w_vec*l_best-k,0))\n",
    "    return revenue\n",
    "\n",
    "# Printing the value of the tax revenue\n",
    "print(f'Sum of the tax revenue: {tax_revenue(w_vec,l_best,t0,t1,k):.2f}')"
   ]
  },
  {
   "cell_type": "markdown",
   "metadata": {},
   "source": [
    "# Question 4"
   ]
  },
  {
   "cell_type": "markdown",
   "metadata": {},
   "source": [
    "ADD ANSWER."
   ]
  },
  {
   "cell_type": "code",
   "execution_count": 12,
   "metadata": {},
   "outputs": [
    {
     "name": "stdout",
     "output_type": "stream",
     "text": [
      "Sum of the tax revenue: 3196.88\n"
     ]
    }
   ],
   "source": [
    " e2 = 0.1\n",
    "\n",
    "# We rename the empty tuples such that we do not overwrite the previous stated tuples\n",
    "c_1_values=np.empty(N)\n",
    "l_1_values=np.empty(N)\n",
    "w_1_values=np.empty(N)\n",
    "\n",
    "# Reusing code from question 2\n",
    "def u_func(c,l):\n",
    "    return np.log(c) - (v * (l**(1+1/e2))/(1+1/e2))\n",
    "\n",
    "def value_of_choice(l,m,v,e2,t0,t1,k,w):\n",
    "    c = m+w*l-(t0*w*l+t1*np.maximum(w*l-k,0))\n",
    "    return -u_func(c,l)\n",
    "\n",
    "for i,w in enumerate(np.linspace(0.5,1.5,10000)):\n",
    "\n",
    "    solver = optimize.minimize_scalar(\n",
    "        value_of_choice,method='bounded',\n",
    "        bounds=(0,1),args=(m,v,e2,t0,t1,k,w))\n",
    "\n",
    "    l = solver.x\n",
    "    c = m+w*l-(t0*w*l+t1*np.maximum(w*l-k,0))\n",
    "\n",
    "    c_1_values[i] = c\n",
    "    l_1_values[i] = l\n",
    "    w_1_values[i] = w\n",
    "    \n",
    "\n",
    "def tax_revenue_1(w_1_values,l_1_values,t0,t1,k):\n",
    "    revenue = np.sum(t0*w_1_values*l_1_values + t1*np.maximum(w_1_values*l_1_values-k,0))\n",
    "    return revenue\n",
    "\n",
    "print(f'Sum of the tax revenue: {tax_revenue_1(w_1_values,l_1_values,t0,t1,k):.2f}')"
   ]
  },
  {
   "cell_type": "markdown",
   "metadata": {},
   "source": [
    "# Question 5"
   ]
  },
  {
   "cell_type": "markdown",
   "metadata": {},
   "source": [
    "ADD ANSWER."
   ]
  },
  {
   "cell_type": "code",
   "execution_count": 16,
   "metadata": {},
   "outputs": [
    {
     "ename": "NameError",
     "evalue": "name 'revenue' is not defined",
     "output_type": "error",
     "traceback": [
      "\u001b[1;31m---------------------------------------------------------------------------\u001b[0m",
      "\u001b[1;31mNameError\u001b[0m                                 Traceback (most recent call last)",
      "\u001b[1;32m<ipython-input-16-90e386fc0805>\u001b[0m in \u001b[0;36m<module>\u001b[1;34m\u001b[0m\n\u001b[0;32m     16\u001b[0m sol_case2 = optimize.minimize(\n\u001b[0;32m     17\u001b[0m     \u001b[0mvalue_of_choice\u001b[0m\u001b[1;33m,\u001b[0m\u001b[0minitial_guess\u001b[0m\u001b[1;33m,\u001b[0m\u001b[0margs\u001b[0m\u001b[1;33m=\u001b[0m\u001b[1;33m(\u001b[0m\u001b[0mi\u001b[0m\u001b[1;33m)\u001b[0m\u001b[1;33m,\u001b[0m\u001b[1;33m\u001b[0m\u001b[1;33m\u001b[0m\u001b[0m\n\u001b[1;32m---> 18\u001b[1;33m     method='SLSQP',bounds=bounds,constraints=constraints)\n\u001b[0m\u001b[0;32m     19\u001b[0m \u001b[1;33m\u001b[0m\u001b[0m\n\u001b[0;32m     20\u001b[0m \u001b[1;31m# Print solution\u001b[0m\u001b[1;33m\u001b[0m\u001b[1;33m\u001b[0m\u001b[1;33m\u001b[0m\u001b[0m\n",
      "\u001b[1;32m~\\Anaconda3\\lib\\site-packages\\scipy\\optimize\\_minimize.py\u001b[0m in \u001b[0;36mminimize\u001b[1;34m(fun, x0, args, method, jac, hess, hessp, bounds, constraints, tol, callback, options)\u001b[0m\n\u001b[0;32m    606\u001b[0m     \u001b[1;32melif\u001b[0m \u001b[0mmeth\u001b[0m \u001b[1;33m==\u001b[0m \u001b[1;34m'slsqp'\u001b[0m\u001b[1;33m:\u001b[0m\u001b[1;33m\u001b[0m\u001b[1;33m\u001b[0m\u001b[0m\n\u001b[0;32m    607\u001b[0m         return _minimize_slsqp(fun, x0, args, jac, bounds,\n\u001b[1;32m--> 608\u001b[1;33m                                constraints, callback=callback, **options)\n\u001b[0m\u001b[0;32m    609\u001b[0m     \u001b[1;32melif\u001b[0m \u001b[0mmeth\u001b[0m \u001b[1;33m==\u001b[0m \u001b[1;34m'trust-constr'\u001b[0m\u001b[1;33m:\u001b[0m\u001b[1;33m\u001b[0m\u001b[1;33m\u001b[0m\u001b[0m\n\u001b[0;32m    610\u001b[0m         return _minimize_trustregion_constr(fun, x0, args, jac, hess, hessp,\n",
      "\u001b[1;32m~\\Anaconda3\\lib\\site-packages\\scipy\\optimize\\slsqp.py\u001b[0m in \u001b[0;36m_minimize_slsqp\u001b[1;34m(func, x0, args, jac, bounds, constraints, maxiter, ftol, iprint, disp, eps, callback, **unknown_options)\u001b[0m\n\u001b[0;32m    397\u001b[0m \u001b[1;33m\u001b[0m\u001b[0m\n\u001b[0;32m    398\u001b[0m             \u001b[1;31m# Compute objective function\u001b[0m\u001b[1;33m\u001b[0m\u001b[1;33m\u001b[0m\u001b[1;33m\u001b[0m\u001b[0m\n\u001b[1;32m--> 399\u001b[1;33m             \u001b[0mfx\u001b[0m \u001b[1;33m=\u001b[0m \u001b[0mfunc\u001b[0m\u001b[1;33m(\u001b[0m\u001b[0mx\u001b[0m\u001b[1;33m)\u001b[0m\u001b[1;33m\u001b[0m\u001b[1;33m\u001b[0m\u001b[0m\n\u001b[0m\u001b[0;32m    400\u001b[0m             \u001b[1;32mtry\u001b[0m\u001b[1;33m:\u001b[0m\u001b[1;33m\u001b[0m\u001b[1;33m\u001b[0m\u001b[0m\n\u001b[0;32m    401\u001b[0m                 \u001b[0mfx\u001b[0m \u001b[1;33m=\u001b[0m \u001b[0mfloat\u001b[0m\u001b[1;33m(\u001b[0m\u001b[0mnp\u001b[0m\u001b[1;33m.\u001b[0m\u001b[0masarray\u001b[0m\u001b[1;33m(\u001b[0m\u001b[0mfx\u001b[0m\u001b[1;33m)\u001b[0m\u001b[1;33m)\u001b[0m\u001b[1;33m\u001b[0m\u001b[1;33m\u001b[0m\u001b[0m\n",
      "\u001b[1;32m~\\Anaconda3\\lib\\site-packages\\scipy\\optimize\\optimize.py\u001b[0m in \u001b[0;36mfunction_wrapper\u001b[1;34m(*wrapper_args)\u001b[0m\n\u001b[0;32m    324\u001b[0m     \u001b[1;32mdef\u001b[0m \u001b[0mfunction_wrapper\u001b[0m\u001b[1;33m(\u001b[0m\u001b[1;33m*\u001b[0m\u001b[0mwrapper_args\u001b[0m\u001b[1;33m)\u001b[0m\u001b[1;33m:\u001b[0m\u001b[1;33m\u001b[0m\u001b[1;33m\u001b[0m\u001b[0m\n\u001b[0;32m    325\u001b[0m         \u001b[0mncalls\u001b[0m\u001b[1;33m[\u001b[0m\u001b[1;36m0\u001b[0m\u001b[1;33m]\u001b[0m \u001b[1;33m+=\u001b[0m \u001b[1;36m1\u001b[0m\u001b[1;33m\u001b[0m\u001b[1;33m\u001b[0m\u001b[0m\n\u001b[1;32m--> 326\u001b[1;33m         \u001b[1;32mreturn\u001b[0m \u001b[0mfunction\u001b[0m\u001b[1;33m(\u001b[0m\u001b[1;33m*\u001b[0m\u001b[1;33m(\u001b[0m\u001b[0mwrapper_args\u001b[0m \u001b[1;33m+\u001b[0m \u001b[0margs\u001b[0m\u001b[1;33m)\u001b[0m\u001b[1;33m)\u001b[0m\u001b[1;33m\u001b[0m\u001b[1;33m\u001b[0m\u001b[0m\n\u001b[0m\u001b[0;32m    327\u001b[0m \u001b[1;33m\u001b[0m\u001b[0m\n\u001b[0;32m    328\u001b[0m     \u001b[1;32mreturn\u001b[0m \u001b[0mncalls\u001b[0m\u001b[1;33m,\u001b[0m \u001b[0mfunction_wrapper\u001b[0m\u001b[1;33m\u001b[0m\u001b[1;33m\u001b[0m\u001b[0m\n",
      "\u001b[1;32m<ipython-input-16-90e386fc0805>\u001b[0m in \u001b[0;36mvalue_of_choice\u001b[1;34m(x, w)\u001b[0m\n\u001b[0;32m      5\u001b[0m     \u001b[0mk\u001b[0m \u001b[1;33m=\u001b[0m \u001b[0mx\u001b[0m\u001b[1;33m[\u001b[0m\u001b[1;36m2\u001b[0m\u001b[1;33m]\u001b[0m\u001b[1;33m\u001b[0m\u001b[1;33m\u001b[0m\u001b[0m\n\u001b[0;32m      6\u001b[0m     \u001b[0ml_1_values\u001b[0m \u001b[1;33m=\u001b[0m \u001b[0mx\u001b[0m\u001b[1;33m[\u001b[0m\u001b[1;36m3\u001b[0m\u001b[1;33m]\u001b[0m\u001b[1;33m\u001b[0m\u001b[1;33m\u001b[0m\u001b[0m\n\u001b[1;32m----> 7\u001b[1;33m     \u001b[1;32mreturn\u001b[0m \u001b[1;33m-\u001b[0m\u001b[0mrevenue\u001b[0m\u001b[1;33m\u001b[0m\u001b[1;33m\u001b[0m\u001b[0m\n\u001b[0m\u001b[0;32m      8\u001b[0m \u001b[1;33m\u001b[0m\u001b[0m\n\u001b[0;32m      9\u001b[0m \u001b[1;31m# b. constraints (violated if negative) and bounds\u001b[0m\u001b[1;33m\u001b[0m\u001b[1;33m\u001b[0m\u001b[1;33m\u001b[0m\u001b[0m\n",
      "\u001b[1;31mNameError\u001b[0m: name 'revenue' is not defined"
     ]
    }
   ],
   "source": [
    "# 5.a. value of choice function to minize\n",
    "def tax_rev_obj(x): \n",
    "    revenue = 0 \n",
    "    t0 = x[0]\n",
    "    t1 = x[1]\n",
    "    k = x[2]\n",
    "    l_1_values = x[3]\n",
    "    return -revenue\n",
    "\n",
    "# b. constraints (violated if negative) and bounds\n",
    "constraints = ({'type': 'ineq', 'fun': lambda x: c_vec-(m+w*x[3]-(x[0]*w*x[3] + (x[1]*np.max(w*x[3]-x[2],0))))}) \n",
    "bounds = ((0,1),(0,1),(0,1),(0,1))\n",
    "\n",
    "\n",
    "# c. call solver\n",
    "initial_guess = [0.3,0.2,0.5,0.2]\n",
    "sol_case2 = optimize.minimize(\n",
    "    value_of_choice,initial_guess,args=(i),\n",
    "    method='SLSQP',bounds=bounds,constraints=constraints)\n",
    "\n",
    "# Print solution \n",
    "def print_solution1(t0_best,t1_best,k,l):\n",
    "    print(f'tax0 = {t0_best:.8f}')\n",
    "    print(f'tax1 = {t1_best:.8f}')\n",
    "    print(f'k  = {k:.8f}')\n",
    "    print(f'l  = {l:.8f}')\n",
    "\n",
    "# d. unpack solution\n",
    "t0_best = sol_case2.x[0]\n",
    "t1_best = sol_case2.x[1]\n",
    "k = sol_case2.x[2]\n",
    "l = sol_case2.x[3]\n",
    "print_solution1(t0_best,t1_best,k,l)"
   ]
  },
  {
   "cell_type": "markdown",
   "metadata": {},
   "source": [
    "# Conclusion"
   ]
  },
  {
   "cell_type": "markdown",
   "metadata": {},
   "source": [
    "By using Python we have solved the consumers maximization problem. \n",
    "\n",
    "Plotting the optimal consumption and labour given wages between 0.5 and 1.5 shows that there is a break in the labour supply curve. \n",
    "\n",
    "In question 3 and 4 we can conclude that when the elasticity of labour drecreases, the tax revenue increases. When the consumers do not substitute labour as much as before, the tax base increase which all things equal leads to a higher tax revenue. "
   ]
  }
 ],
 "metadata": {
  "kernelspec": {
   "display_name": "Python 3",
   "language": "python",
   "name": "python3"
  },
  "language_info": {
   "codemirror_mode": {
    "name": "ipython",
    "version": 3
   },
   "file_extension": ".py",
   "mimetype": "text/x-python",
   "name": "python",
   "nbconvert_exporter": "python",
   "pygments_lexer": "ipython3",
   "version": "3.7.4"
  },
  "toc-autonumbering": true
 },
 "nbformat": 4,
 "nbformat_minor": 4
}
