{
 "cells": [
  {
   "cell_type": "code",
   "execution_count": 1,
   "metadata": {},
   "outputs": [
    {
     "name": "stdout",
     "output_type": "stream",
     "text": [
      "The autoreload extension is already loaded. To reload it, use:\n",
      "  %reload_ext autoreload\n"
     ]
    }
   ],
   "source": [
    "import numpy as np\n",
    "from scipy import optimize \n",
    "# autoreload modules when code is run\n",
    "%load_ext autoreload\n",
    "%autoreload 2\n",
    "\n",
    "%matplotlib inline\n",
    "%load_ext autoreload\n",
    "%autoreload 2\n",
    "\n",
    "import matplotlib.pyplot as plt\n",
    "plt.style.use('seaborn-whitegrid')\n",
    "prop_cycle = plt.rcParams['axes.prop_cycle']\n",
    "colors = prop_cycle.by_key()['color']\n",
    "from mpl_toolkits.mplot3d import Axes3D\n",
    "from mpl_toolkits.mplot3d.art3d import Poly3DCollection, Line3DCollection\n",
    "import ipywidgets as widgets"
   ]
  },
  {
   "cell_type": "code",
   "execution_count": 2,
   "metadata": {},
   "outputs": [
    {
     "name": "stdout",
     "output_type": "stream",
     "text": [
      "When optimizing the function we find the optimal labour supply to be 0.691 and the optimal consumption 1.207 which gives us a utility of 0.173.\n"
     ]
    }
   ],
   "source": [
    "m = 1 \n",
    "v = 10\n",
    "e = 0.1\n",
    "t0 = 0.4\n",
    "t1 = 0.1\n",
    "k = 0.4\n",
    "w = 0.5\n",
    "\n",
    "def utility(c, v, l, e):\n",
    "    u = np.log(c) - v*(l**(1+1/e)/(1+1/e))\n",
    "    return u\n",
    "\n",
    "#1.d. Defining constraints\n",
    "def constraint(m, l, w, t0, t1, k):\n",
    "    x = m+w*l-w*l*t0-t1*max((w*l-k),0)\n",
    "    return x\n",
    "\n",
    "#1.e. Objective function to minimize\n",
    "def value_of_choice(l,w,e,v, t0, t1, k):\n",
    "    c = constraint(m, l, w, t0, t1, k)\n",
    "    return -utility(c, v, l, e)\n",
    "\n",
    "#1.f. define a solver\n",
    "def solver(m, w, e, v, t0, t1, k):\n",
    "    sol_case1 = optimize.minimize_scalar(\n",
    "        value_of_choice,method='bounded',\n",
    "        bounds=(0,1),args=(w,e,v,t0,t1,k))\n",
    "    l_best = sol_case1.x\n",
    "    c_best = constraint(m,l_best, w, t0, t1, k)\n",
    "    u_best = utility(c=c_best, v=v, l=l_best, e=e)\n",
    "    return l_best, c_best, u_best\n",
    "\n",
    "l_best, c_best, u_best = solver(m = m, w = w, e = e,v = v,t0 = t0,t1 = t1,k = k)\n",
    "# f. print resultat\n",
    "\n",
    "print(f'When optimizing the function we find the optimal labour supply to be {l_best:.3f}' , f'and the optimal consumption {c_best:.3f}' f' which gives us a utility of {u_best:.3f}.')"
   ]
  },
  {
   "cell_type": "code",
   "execution_count": 3,
   "metadata": {},
   "outputs": [
    {
     "data": {
      "image/png": "[encoded data removed]",
      "text/plain": [
       "<Figure size 720x288 with 2 Axes>"
      ]
     },
     "metadata": {
      "needs_background": "light"
     },
     "output_type": "display_data"
    }
   ],
   "source": [
    "# 2.a. define storage vectors and data for w.\n",
    "N = 10000\n",
    "w_vec = np.linspace(0.5, 1.5, N)\n",
    "l_vec = np.empty(N)\n",
    "c_vec = np.empty(N)\n",
    "\n",
    "# 2.b. loop through different w and get optima of l and c for each w in w_vec\n",
    "for i, w in enumerate(w_vec):\n",
    "    bundle = solver(w = w,e = 0.3,v = v,t0 = t0,t1 = t1,k = k,m = m)\n",
    "    l_vec[i] = bundle[0]\n",
    "    c_vec[i] = bundle[1]\n",
    "\n",
    "# 2.c. plotting figure.\n",
    "fig = plt.figure(figsize=(10,4)) # dpi = dots-per-inch (resolution)\n",
    "\n",
    "ax_left = fig.add_subplot(1,2,1)\n",
    "ax_left.plot(w_vec,l_vec,ls='--',lw=2,color='black',label='Labour')\n",
    "\n",
    "#2.c.1 left figure is labour supple\n",
    "ax_left.set_title('Optimal supply of labour given w')\n",
    "ax_left.set_xlabel('$w$')\n",
    "ax_left.set_ylabel('$l$')\n",
    "ax_left.grid(True)\n",
    "\n",
    "#2.c.2 right figure is consumption\n",
    "ax_right = fig.add_subplot(1,2,2)\n",
    "ax_right.plot(w_vec,c_vec)\n",
    "\n",
    "ax_right.set_title('Optimal consumption given w')\n",
    "ax_right.set_xlabel('$w$')\n",
    "ax_right.set_ylabel('$C$')\n",
    "ax_right.grid(True)\n",
    "plt.show()"
   ]
  },
  {
   "cell_type": "code",
   "execution_count": 4,
   "metadata": {},
   "outputs": [
    {
     "name": "stdout",
     "output_type": "stream",
     "text": [
      "Sum of the tax revenue: 3196.88\n"
     ]
    }
   ],
   "source": []
  },
  {
   "cell_type": "code",
   "execution_count": 9,
   "metadata": {},
   "outputs": [
    {
     "name": "stdout",
     "output_type": "stream",
     "text": [
      "Sum of the tax revenue: 1630.19\n"
     ]
    }
   ],
   "source": [
    "def tax_revenue(w_values,l_vec,tau_0,tau_1,kappa):\n",
    "    revenue = np.sum(t0*w_vec*l_vec + t1*np.maximum(w_vec*l_vec-k,0))\n",
    "    return revenue\n",
    "\n",
    "# Printing the value of the tax revenue\n",
    "print(f'Sum of the tax revenue: {tax_revenue(w_vec,l_vec,t0,t1,k):.2f}')"
   ]
  },
  {
   "cell_type": "code",
   "execution_count": 18,
   "metadata": {},
   "outputs": [],
   "source": [
    "#We'll start with rewriting task 1 and 2 for e=0.1\n",
    "e2=0.1\n",
    "\n",
    "def utility(c, v, l, e2):\n",
    "    u = np.log(c) - v*(l**(1+1/e2)/(1+1/e2))\n",
    "    return u\n",
    "\n",
    "#1.d. Defining constraints\n",
    "def constraint(m, l, w, t0, t1, k):\n",
    "    x = m+w*l-w*l*t0-t1*max((w*l-k),0)\n",
    "    return x\n",
    "\n",
    "#1.e. Objective function to minimize\n",
    "def value_of_choice(l,w,e2,v, t0, t1, k):\n",
    "    c = constraint(m, l, w, t0, t1, k)\n",
    "    return -utility(c, v, l, e2)\n",
    "\n",
    "#1.f. define a solver\n",
    "def solver(m, w, e2, v, t0, t1, k):\n",
    "    sol_case1 = optimize.minimize_scalar(\n",
    "        value_of_choice,method='bounded',\n",
    "        bounds=(0,1),args=(w,e2,v,t0,t1,k))\n",
    "    l_best = sol_case1.x\n",
    "    c_best = constraint(m,l_best, w, t0, t1, k)\n",
    "    u_best = utility(c=c_best, v=v, l=l_best, e2=e2)\n",
    "    return l_best, c_best, u_best\n",
    "\n",
    "l_best, c_best, u_best = solver(m = m, w = w, e2 = e2,v = v,t0 = t0,t1 = t1,k = k)"
   ]
  },
  {
   "cell_type": "code",
   "execution_count": null,
   "metadata": {},
   "outputs": [],
   "source": []
  },
  {
   "cell_type": "code",
   "execution_count": 19,
   "metadata": {},
   "outputs": [
    {
     "name": "stdout",
     "output_type": "stream",
     "text": [
      "Sum of the tax revenue: 3196.88\n"
     ]
    }
   ],
   "source": [
    "# We'll now calculate the tax revenue for e=0.1\n",
    "def tax_revenue(w_values,l_vec2,tau_0,tau_1,kappa):\n",
    "    revenue = np.sum(t0*w_vec*l_vec2 + t1*np.maximum(w_vec*l_vec2-k,0))\n",
    "    return revenue\n",
    "\n",
    "# Printing the value of the tax revenue\n",
    "print(f'Sum of the tax revenue: {tax_revenue(w_vec,l_vec2,t0,t1,k):.2f}')"
   ]
  },
  {
   "cell_type": "code",
   "execution_count": 17,
   "metadata": {},
   "outputs": [
    {
     "ename": "TypeError",
     "evalue": "value_of_choice() missing 5 required positional arguments: 'e2', 'v', 't0', 't1', and 'k'",
     "output_type": "error",
     "traceback": [
      "\u001b[0;31m---------------------------------------------------------------------------\u001b[0m",
      "\u001b[0;31mTypeError\u001b[0m                                 Traceback (most recent call last)",
      "\u001b[0;32m<ipython-input-17-d8f4e9084538>\u001b[0m in \u001b[0;36m<module>\u001b[0;34m\u001b[0m\n\u001b[1;32m     17\u001b[0m sol_case2 = optimize.minimize(\n\u001b[1;32m     18\u001b[0m     \u001b[0mvalue_of_choice\u001b[0m\u001b[0;34m,\u001b[0m\u001b[0minitial_guess\u001b[0m\u001b[0;34m,\u001b[0m\u001b[0margs\u001b[0m\u001b[0;34m=\u001b[0m\u001b[0;34m(\u001b[0m\u001b[0mi\u001b[0m\u001b[0;34m)\u001b[0m\u001b[0;34m,\u001b[0m\u001b[0;34m\u001b[0m\u001b[0;34m\u001b[0m\u001b[0m\n\u001b[0;32m---> 19\u001b[0;31m     method='SLSQP',bounds=bounds,constraints=constraints)\n\u001b[0m\u001b[1;32m     20\u001b[0m \u001b[0;34m\u001b[0m\u001b[0m\n\u001b[1;32m     21\u001b[0m \u001b[0;31m# Print solution\u001b[0m\u001b[0;34m\u001b[0m\u001b[0;34m\u001b[0m\u001b[0;34m\u001b[0m\u001b[0m\n",
      "\u001b[0;32m/Applications/anaconda3/lib/python3.7/site-packages/scipy/optimize/_minimize.py\u001b[0m in \u001b[0;36mminimize\u001b[0;34m(fun, x0, args, method, jac, hess, hessp, bounds, constraints, tol, callback, options)\u001b[0m\n\u001b[1;32m    606\u001b[0m     \u001b[0;32melif\u001b[0m \u001b[0mmeth\u001b[0m \u001b[0;34m==\u001b[0m \u001b[0;34m'slsqp'\u001b[0m\u001b[0;34m:\u001b[0m\u001b[0;34m\u001b[0m\u001b[0;34m\u001b[0m\u001b[0m\n\u001b[1;32m    607\u001b[0m         return _minimize_slsqp(fun, x0, args, jac, bounds,\n\u001b[0;32m--> 608\u001b[0;31m                                constraints, callback=callback, **options)\n\u001b[0m\u001b[1;32m    609\u001b[0m     \u001b[0;32melif\u001b[0m \u001b[0mmeth\u001b[0m \u001b[0;34m==\u001b[0m \u001b[0;34m'trust-constr'\u001b[0m\u001b[0;34m:\u001b[0m\u001b[0;34m\u001b[0m\u001b[0;34m\u001b[0m\u001b[0m\n\u001b[1;32m    610\u001b[0m         return _minimize_trustregion_constr(fun, x0, args, jac, hess, hessp,\n",
      "\u001b[0;32m/Applications/anaconda3/lib/python3.7/site-packages/scipy/optimize/slsqp.py\u001b[0m in \u001b[0;36m_minimize_slsqp\u001b[0;34m(func, x0, args, jac, bounds, constraints, maxiter, ftol, iprint, disp, eps, callback, **unknown_options)\u001b[0m\n\u001b[1;32m    397\u001b[0m \u001b[0;34m\u001b[0m\u001b[0m\n\u001b[1;32m    398\u001b[0m             \u001b[0;31m# Compute objective function\u001b[0m\u001b[0;34m\u001b[0m\u001b[0;34m\u001b[0m\u001b[0;34m\u001b[0m\u001b[0m\n\u001b[0;32m--> 399\u001b[0;31m             \u001b[0mfx\u001b[0m \u001b[0;34m=\u001b[0m \u001b[0mfunc\u001b[0m\u001b[0;34m(\u001b[0m\u001b[0mx\u001b[0m\u001b[0;34m)\u001b[0m\u001b[0;34m\u001b[0m\u001b[0;34m\u001b[0m\u001b[0m\n\u001b[0m\u001b[1;32m    400\u001b[0m             \u001b[0;32mtry\u001b[0m\u001b[0;34m:\u001b[0m\u001b[0;34m\u001b[0m\u001b[0;34m\u001b[0m\u001b[0m\n\u001b[1;32m    401\u001b[0m                 \u001b[0mfx\u001b[0m \u001b[0;34m=\u001b[0m \u001b[0mfloat\u001b[0m\u001b[0;34m(\u001b[0m\u001b[0mnp\u001b[0m\u001b[0;34m.\u001b[0m\u001b[0masarray\u001b[0m\u001b[0;34m(\u001b[0m\u001b[0mfx\u001b[0m\u001b[0;34m)\u001b[0m\u001b[0;34m)\u001b[0m\u001b[0;34m\u001b[0m\u001b[0;34m\u001b[0m\u001b[0m\n",
      "\u001b[0;32m/Applications/anaconda3/lib/python3.7/site-packages/scipy/optimize/optimize.py\u001b[0m in \u001b[0;36mfunction_wrapper\u001b[0;34m(*wrapper_args)\u001b[0m\n\u001b[1;32m    324\u001b[0m     \u001b[0;32mdef\u001b[0m \u001b[0mfunction_wrapper\u001b[0m\u001b[0;34m(\u001b[0m\u001b[0;34m*\u001b[0m\u001b[0mwrapper_args\u001b[0m\u001b[0;34m)\u001b[0m\u001b[0;34m:\u001b[0m\u001b[0;34m\u001b[0m\u001b[0;34m\u001b[0m\u001b[0m\n\u001b[1;32m    325\u001b[0m         \u001b[0mncalls\u001b[0m\u001b[0;34m[\u001b[0m\u001b[0;36m0\u001b[0m\u001b[0;34m]\u001b[0m \u001b[0;34m+=\u001b[0m \u001b[0;36m1\u001b[0m\u001b[0;34m\u001b[0m\u001b[0;34m\u001b[0m\u001b[0m\n\u001b[0;32m--> 326\u001b[0;31m         \u001b[0;32mreturn\u001b[0m \u001b[0mfunction\u001b[0m\u001b[0;34m(\u001b[0m\u001b[0;34m*\u001b[0m\u001b[0;34m(\u001b[0m\u001b[0mwrapper_args\u001b[0m \u001b[0;34m+\u001b[0m \u001b[0margs\u001b[0m\u001b[0;34m)\u001b[0m\u001b[0;34m)\u001b[0m\u001b[0;34m\u001b[0m\u001b[0;34m\u001b[0m\u001b[0m\n\u001b[0m\u001b[1;32m    327\u001b[0m \u001b[0;34m\u001b[0m\u001b[0m\n\u001b[1;32m    328\u001b[0m     \u001b[0;32mreturn\u001b[0m \u001b[0mncalls\u001b[0m\u001b[0;34m,\u001b[0m \u001b[0mfunction_wrapper\u001b[0m\u001b[0;34m\u001b[0m\u001b[0;34m\u001b[0m\u001b[0m\n",
      "\u001b[0;31mTypeError\u001b[0m: value_of_choice() missing 5 required positional arguments: 'e2', 'v', 't0', 't1', and 'k'"
     ]
    }
   ],
   "source": [
    "# 5.a. value of choice function to minize\n",
    "def tax_rev_obj(x): \n",
    "    revenue = 0 \n",
    "    t0 = x[0]\n",
    "    t1 = x[1]\n",
    "    k = x[2]\n",
    "    l_1_values = x[3]\n",
    "    return -revenue\n",
    "\n",
    "# b. constraints (violated if negative) and bounds\n",
    "constraints = ({'type': 'ineq', 'fun': lambda x: c_vec-(m+w*x[3]-(x[0]*w*x[3] + (x[1]*np.max(w*x[3]-x[2],0))))}) \n",
    "bounds = ((0,1),(0,1),(0,1),(0,1))\n",
    "\n",
    "\n",
    "# c. call solver\n",
    "initial_guess = [0.3,0.2,0.5,0.2]\n",
    "sol_case2 = optimize.minimize(\n",
    "    value_of_choice,initial_guess,args=(i),\n",
    "    method='SLSQP',bounds=bounds,constraints=constraints)\n",
    "\n",
    "# Print solution \n",
    "def print_solution1(t0_best,t1_best,k,l):\n",
    "    print(f'tax0 = {t0_best:.8f}')\n",
    "    print(f'tax1 = {t1_best:.8f}')\n",
    "    print(f'k  = {k:.8f}')\n",
    "    print(f'l  = {l:.8f}')\n",
    "\n",
    "# d. unpack solution\n",
    "t0_best = sol_case2.x[0]\n",
    "t1_best = sol_case2.x[1]\n",
    "k = sol_case2.x[2]\n",
    "l = sol_case2.x[3]\n",
    "print_solution1(t0_best,t1_best,k,l)"
   ]
  },
  {
   "cell_type": "code",
   "execution_count": null,
   "metadata": {},
   "outputs": [],
   "source": []
  }
 ],
 "metadata": {
  "kernelspec": {
   "display_name": "Python 3",
   "language": "python",
   "name": "python3"
  },
  "language_info": {
   "codemirror_mode": {
    "name": "ipython",
    "version": 3
   },
   "file_extension": ".py",
   "mimetype": "text/x-python",
   "name": "python",
   "nbconvert_exporter": "python",
   "pygments_lexer": "ipython3",
   "version": "3.7.4"
  }
 },
 "nbformat": 4,
 "nbformat_minor": 4
}
