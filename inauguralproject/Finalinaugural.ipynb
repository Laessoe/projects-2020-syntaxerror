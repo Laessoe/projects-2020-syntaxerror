{
 "cells": [
  {
   "cell_type": "markdown",
   "metadata": {},
   "source": [
    "# Inaugural Project"
   ]
  },
  {
   "cell_type": "markdown",
   "metadata": {},
   "source": [
    "> **Note the following:** \n",
    "> 1. This is an example of how to structure your **inaugural project**.\n",
    "> 1. Remember the general advice on structuring and commenting your code from [lecture 5](https://numeconcopenhagen.netlify.com/lectures/Workflow_and_debugging).\n",
    "> 1. Remember this [guide](https://www.markdownguide.org/basic-syntax/) on markdown and (a bit of) latex.\n",
    "> 1. Turn on automatic numbering by clicking on the small icon on top of the table of contents in the left sidebar.\n",
    "> 1. The `inauguralproject.py` file includes a function which can be used multiple times in this notebook."
   ]
  },
  {
   "cell_type": "markdown",
   "metadata": {},
   "source": [
    "Imports and set magics:"
   ]
  },
  {
   "cell_type": "code",
   "execution_count": 43,
   "metadata": {},
   "outputs": [
    {
     "name": "stdout",
     "output_type": "stream",
     "text": [
      "The autoreload extension is already loaded. To reload it, use:\n",
      "  %reload_ext autoreload\n",
      "The autoreload extension is already loaded. To reload it, use:\n",
      "  %reload_ext autoreload\n"
     ]
    }
   ],
   "source": [
    "import numpy as np\n",
    "from scipy import optimize \n",
    "# autoreload modules when code is run\n",
    "%load_ext autoreload\n",
    "%autoreload 2\n",
    "\n",
    "# local modules\n",
    "import inauguralproject\n",
    "\n",
    "\n",
    "%matplotlib inline\n",
    "%load_ext autoreload\n",
    "%autoreload 2\n",
    "\n",
    "import matplotlib.pyplot as plt\n",
    "plt.style.use('seaborn-whitegrid')\n",
    "prop_cycle = plt.rcParams['axes.prop_cycle']\n",
    "colors = prop_cycle.by_key()['color']\n",
    "from mpl_toolkits.mplot3d import Axes3D\n",
    "from mpl_toolkits.mplot3d.art3d import Poly3DCollection, Line3DCollection\n",
    "import ipywidgets as widgets\n"
   ]
  },
  {
   "cell_type": "markdown",
   "metadata": {
    "toc-hr-collapsed": true
   },
   "source": [
    "# Question 1"
   ]
  },
  {
   "cell_type": "markdown",
   "metadata": {},
   "source": [
    "We first define the model "
   ]
  },
  {
   "cell_type": "code",
   "execution_count": 109,
   "metadata": {},
   "outputs": [
    {
     "name": "stdout",
     "output_type": "stream",
     "text": [
      "When optimizing the function we find the optimal labour supply to be 0.339 and the optimal consumption 1.102 which gives us a utility of 0.076.\n"
     ]
    }
   ],
   "source": [
    "m = 1 \n",
    "v = 10\n",
    "eps = 0.1\n",
    "tau0 = 0.4\n",
    "tau1 = 0.1\n",
    "kappa = 0.4\n",
    "w = 0.5\n",
    "\n",
    "def utility(c, v, l, e):\n",
    "    u = np.log(c) - v*(l**(1+1/e)/(1+1/e))\n",
    "    return u\n",
    "\n",
    "#1.d. Defining constraints\n",
    "def constraint(m, l, w, t0, t1, k):\n",
    "    x = m+w*l-w*l*t0-t1*max((w*l-k),0)\n",
    "    return x\n",
    "\n",
    "#1.e. Objective function to minimize\n",
    "def value_of_choice(l,w,e,v, t0, t1, k):\n",
    "    c = constraint(m, l, w, t0, t1, k)\n",
    "    return -utility(c, v, l, e)\n",
    "\n",
    "#1.f. define a solver\n",
    "def solver(m, w, e, v, t0, t1, k):\n",
    "    sol_case1 = optimize.minimize_scalar(\n",
    "        value_of_choice,method='bounded',\n",
    "        bounds=(0,1),args=(w,e,v,t0,t1,k))\n",
    "    l_best = sol_case1.x\n",
    "    c_best = constraint(m,l_best, w, t0, t1, k)\n",
    "    u_best = utility(c=c_best, v=v, l=l_best, e=e)\n",
    "    return l_best, c_best, u_best\n",
    "\n",
    "l_best, c_best, u_best = solver(m = m, w = w, e = e,v = v,t0 = t0,t1 = t1,k = k)\n",
    "# f. print resultat\n",
    "\n",
    "print(f'When optimizing the function we find the optimal labour supply to be {l_best:.3f}' , f'and the optimal consumption {c_best:.3f}' f' which gives us a utility of {u_best:.3f}.')\n",
    "   "
   ]
  },
  {
   "cell_type": "markdown",
   "metadata": {},
   "source": [
    "# Question 2"
   ]
  },
  {
   "cell_type": "markdown",
   "metadata": {},
   "source": [
    "ADD ANSWER."
   ]
  },
  {
   "cell_type": "code",
   "execution_count": 110,
   "metadata": {},
   "outputs": [
    {
     "data": {
      "image/png": "[encoded data removed]",
      "text/plain": [
       "<Figure size 720x288 with 2 Axes>"
      ]
     },
     "metadata": {},
     "output_type": "display_data"
    }
   ],
   "source": [
    "\n",
    "# 2.a. define storage vectors and data for w.\n",
    "N = 1000\n",
    "w_vec = np.linspace(0.5, 1.5, N)\n",
    "l_vec = np.empty(N)\n",
    "c_vec = np.empty(N)\n",
    "\n",
    "# 2.b. loop through different w and get optima of l and c for each w in w_vec\n",
    "for i, w in enumerate(w_vec):\n",
    "    bundle = solver(w = w,e = 0.3,v = v,t0 = t0,t1 = t1,k = k,m = m)\n",
    "    l_vec[i] = bundle[0]\n",
    "    c_vec[i] = bundle[1]\n",
    "\n",
    "# 2.c. plotting figure.\n",
    "fig = plt.figure(figsize=(10,4)) # dpi = dots-per-inch (resolution)\n",
    "\n",
    "ax_left = fig.add_subplot(1,2,1)\n",
    "ax_left.plot(w_vec,l_vec,ls='--',lw=2,color='black',label='Labour')\n",
    "\n",
    "#2.c.1 left figure is labour supple\n",
    "ax_left.set_title('Optimal supply of labour given w')\n",
    "ax_left.set_xlabel('$w$')\n",
    "ax_left.set_ylabel('$l$')\n",
    "ax_left.grid(True)\n",
    "\n",
    "#2.c.2 right figure is consumption\n",
    "ax_right = fig.add_subplot(1,2,2)\n",
    "ax_right.plot(w_vec,c_vec)\n",
    "\n",
    "ax_right.set_title('Optimal consumption given w')\n",
    "ax_right.set_xlabel('$w$')\n",
    "ax_right.set_ylabel('$C$')\n",
    "ax_right.grid(True)\n",
    "plt.show()\n"
   ]
  },
  {
   "cell_type": "markdown",
   "metadata": {},
   "source": [
    "# Question 3"
   ]
  },
  {
   "cell_type": "markdown",
   "metadata": {},
   "source": [
    "ADD ANSWER."
   ]
  },
  {
   "cell_type": "code",
   "execution_count": 108,
   "metadata": {},
   "outputs": [],
   "source": [
    "N = 10000 \n",
    "np.random.seed(100)\n",
    "w_list = np.random.uniform(low=0.5,high=1.5,size=N)\n",
    "\n",
    "#we'll now define a tax revenue function, which will reuse the values for w and l from above\n",
    "def tax_revenue(w_vec,l_best,t0,t1,k):\n",
    "    revenue = np.sum(t0*w_vec*l_best + t1*np.maximum(w_vec*l_best-k,0))\n",
    "    return revenue\n",
    "\n",
    "# Printing the value of the tax revenue\n",
    "print(f'Sum of the tax revenue: {tax_revenue(w_vec,l_best,t0,t1,k):.2f}')"
   ]
  },
  {
   "cell_type": "markdown",
   "metadata": {},
   "source": [
    "# Question 4"
   ]
  },
  {
   "cell_type": "markdown",
   "metadata": {},
   "source": [
    "ADD ANSWER."
   ]
  },
  {
   "cell_type": "code",
   "execution_count": 5,
   "metadata": {},
   "outputs": [],
   "source": [
    " e2 = 0.1\n",
    "\n",
    "# We rename the empty tuples such that we do not overwrite the previous stated tuples\n",
    "c_1_values=np.empty(N)\n",
    "l_1_values=np.empty(N)\n",
    "w_1_values=np.empty(N)\n",
    "\n",
    "# Reusing code from question 2\n",
    "def u_func(c,l):\n",
    "    return np.log(c) - (v * (l**(1+1/e2))/(1+1/e2))\n",
    "\n",
    "def value_of_choice(l,m,v,e2,t0,t1,k,w):\n",
    "    c = m+w*l-(t0*w*l+t1*np.maximum(w*l-k,0))\n",
    "    return -u_func(c,l)\n",
    "\n",
    "for i,w in enumerate(np.linspace(0.5,1.5,10000)):\n",
    "\n",
    "    solver = optimize.minimize_scalar(\n",
    "        value_of_choice,method='bounded',\n",
    "        bounds=(0,1),args=(m,v,e2,t0,t1,k,w))\n",
    "\n",
    "    l = solver.x\n",
    "    c = m+w*l-(t0*w*l+t1*np.maximum(w*l-k,0))\n",
    "\n",
    "    c_1_values[i] = c\n",
    "    l_1_values[i] = l\n",
    "    w_1_values[i] = w\n",
    "    \n",
    "\n",
    "def tax_revenue_1(w_1_values,l_1_values,t0,t1,k):\n",
    "    revenue = np.sum(t0*w_1_values*l_1_values + t1*np.maximum(w_1_values*l_1_values-k,0))\n",
    "    return revenue\n",
    "\n",
    "print(f'Sum of the tax revenue: {tax_revenue_1(w_1_values,l_1_values,t0,t1,k):.2f}')"
   ]
  },
  {
   "cell_type": "markdown",
   "metadata": {},
   "source": [
    "# Question 5"
   ]
  },
  {
   "cell_type": "markdown",
   "metadata": {},
   "source": [
    "ADD ANSWER."
   ]
  },
  {
   "cell_type": "code",
   "execution_count": 91,
   "metadata": {},
   "outputs": [
    {
     "name": "stderr",
     "output_type": "stream",
     "text": [
      "C:\\Users\\Frede\\Anaconda3\\lib\\site-packages\\ipykernel_launcher.py:11: RuntimeWarning: invalid value encountered in double_scalars\n",
      "  # This is added back by InteractiveShellApp.init_path()\n"
     ]
    }
   ],
   "source": [
    "# 5.a. value of choice function to minize\n",
    "def value_of_choice(x,w):\n",
    "    t0_best = x[0]\n",
    "    t1_best = x[1]\n",
    "    k = x[2]\n",
    "    l = x[3]\n",
    "    return -revenue\n",
    "\n",
    "# b. constraints (violated if negative) and bounds\n",
    "constraints = ({'type': 'ineq', 'fun': lambda x: c_vec-(m+w*x[3]-(x[0]*w*x[3] + (x[1]*np.max(w*x[3]-x[2],0))))}) \n",
    "bounds = ((0,1),(0,1),(0,1),(0,1))\n",
    "\n",
    "\n",
    "# c. call solver\n",
    "initial_guess = [0.3,0.2,0.5,0.2]\n",
    "sol_case2 = optimize.minimize(\n",
    "    value_of_choice,initial_guess,args=(i),\n",
    "    method='SLSQP',bounds=bounds,constraints=constraints)\n",
    "\n",
    "# Print solution \n",
    "def print_solution1(t0_best,t1_best,k,l):\n",
    "    print(f'tax0 = {t0_best:.8f}')\n",
    "    print(f'tax1 = {t1_best:.8f}')\n",
    "    print(f'k  = {k:.8f}')\n",
    "    print(f'l  = {l:.8f}')\n",
    "\n",
    "# d. unpack solution\n",
    "t0_best = sol_case2.x[0]\n",
    "t1_best = sol_case2.x[1]\n",
    "k = sol_case2.x[2]\n",
    "l = sol_case2.x[3]\n",
    "print_solution1(t0_best,t1_best,k,l)"
   ]
  },
  {
   "cell_type": "markdown",
   "metadata": {},
   "source": [
    "# Conclusion"
   ]
  },
  {
   "cell_type": "markdown",
   "metadata": {},
   "source": [
    "By using Python we have solved the consumers maximization problem. \n",
    "\n",
    "Plotting the optimal consumption and labour given wages between 0.5 and 1.5 shows that there is a break in the labour supply curve. \n",
    "\n",
    "In question 3 and 4 we can conclude that when the elasticity of labour drecreases, the tax revenue increases. When the consumers do not substitute labour as much as before, the tax base increase which all things equal leads to a higher tax revenue. "
   ]
  }
 ],
 "metadata": {
  "kernelspec": {
   "display_name": "Python 3",
   "language": "python",
   "name": "python3"
  },
  "language_info": {
   "codemirror_mode": {
    "name": "ipython",
    "version": 3
   },
   "file_extension": ".py",
   "mimetype": "text/x-python",
   "name": "python",
   "nbconvert_exporter": "python",
   "pygments_lexer": "ipython3",
   "version": "3.7.4"
  },
  "toc-autonumbering": true
 },
 "nbformat": 4,
 "nbformat_minor": 4
}
