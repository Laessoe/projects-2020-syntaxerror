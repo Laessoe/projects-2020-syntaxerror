{
 "cells": [
  {
   "cell_type": "code",
   "execution_count": 5,
   "metadata": {},
   "outputs": [],
   "source": [
    "import os\n",
    "import numpy as np\n",
    "import pandas as pd\n",
    "from datetime import datetime\n",
    "\n",
    "import seaborn as sns\n",
    "import matplotlib.pyplot as plt\n",
    "\n",
    "from matplotlib import pyplot\n",
    "from matplotlib import dates\n",
    "\n",
    "import matplotlib.dates as mdates\n",
    "import matplotlib.ticker as plticker\n",
    "from matplotlib.dates import DateFormatter\n",
    "import time\n",
    "\n",
    "\n",
    "\n",
    "cw = pd.read_csv('ged191.csv')\n",
    "\n",
    "#Drop unwanted columns \n",
    "\n",
    "drop_these = ['id','low', 'high', 'event_clarity', 'date_prec', 'conflict_new_id', \n",
    "              'conflict_name','dyad_name', 'dyad_new_id','side_a_new_id','adm_1','adm_2', 'gwnoa', 'side_b_new_id', 'dyad_new_id', 'gwnob', 'number_of_sources'\n",
    "              , 'source_headline', 'priogrid_gid', 'source_date', 'source_office', 'source_article', \n",
    "              'source_original', 'deaths_a', 'deaths_b', 'deaths_civilians', 'deaths_unknown', 'date_start', \n",
    "              'date_end', 'country_id', 'side_a', 'side_b', 'where_prec']\n",
    "\n",
    "\n",
    "cw.drop(drop_these, axis=1, inplace=True) # axis = 1 -> columns, inplace=True -> changed, no copy made\n",
    "\n",
    "\n",
    "cw_year = cw[cw.year == 2018]\n",
    "\n"
   ]
  },
  {
   "cell_type": "code",
   "execution_count": 6,
   "metadata": {},
   "outputs": [
    {
     "data": {
      "text/html": [
       "<div>\n",
       "<style scoped>\n",
       "    .dataframe tbody tr th:only-of-type {\n",
       "        vertical-align: middle;\n",
       "    }\n",
       "\n",
       "    .dataframe tbody tr th {\n",
       "        vertical-align: top;\n",
       "    }\n",
       "\n",
       "    .dataframe thead th {\n",
       "        text-align: right;\n",
       "    }\n",
       "</style>\n",
       "<table border=\"1\" class=\"dataframe\">\n",
       "  <thead>\n",
       "    <tr style=\"text-align: right;\">\n",
       "      <th></th>\n",
       "      <th>year</th>\n",
       "      <th>active_year</th>\n",
       "      <th>type_of_violence</th>\n",
       "      <th>where_coordinates</th>\n",
       "      <th>latitude</th>\n",
       "      <th>longitude</th>\n",
       "      <th>geom_wkt</th>\n",
       "      <th>country</th>\n",
       "      <th>region</th>\n",
       "      <th>best</th>\n",
       "      <th>Africa</th>\n",
       "      <th>Americas</th>\n",
       "      <th>Asia</th>\n",
       "      <th>Europe</th>\n",
       "      <th>Middle East</th>\n",
       "    </tr>\n",
       "  </thead>\n",
       "  <tbody>\n",
       "    <tr>\n",
       "      <td>2010</td>\n",
       "      <td>2018</td>\n",
       "      <td>1</td>\n",
       "      <td>1</td>\n",
       "      <td>Qush Tepa district</td>\n",
       "      <td>36.193552</td>\n",
       "      <td>65.352724</td>\n",
       "      <td>POINT (65.352724 36.193552)</td>\n",
       "      <td>Afghanistan</td>\n",
       "      <td>Asia</td>\n",
       "      <td>45</td>\n",
       "      <td>0</td>\n",
       "      <td>0</td>\n",
       "      <td>1</td>\n",
       "      <td>0</td>\n",
       "      <td>0</td>\n",
       "    </tr>\n",
       "    <tr>\n",
       "      <td>2011</td>\n",
       "      <td>2018</td>\n",
       "      <td>1</td>\n",
       "      <td>1</td>\n",
       "      <td>Imam Sahib district</td>\n",
       "      <td>37.105713</td>\n",
       "      <td>68.851658</td>\n",
       "      <td>POINT (68.851658 37.105713)</td>\n",
       "      <td>Afghanistan</td>\n",
       "      <td>Asia</td>\n",
       "      <td>28</td>\n",
       "      <td>0</td>\n",
       "      <td>0</td>\n",
       "      <td>1</td>\n",
       "      <td>0</td>\n",
       "      <td>0</td>\n",
       "    </tr>\n",
       "    <tr>\n",
       "      <td>2012</td>\n",
       "      <td>2018</td>\n",
       "      <td>1</td>\n",
       "      <td>1</td>\n",
       "      <td>Bala Bagh village</td>\n",
       "      <td>34.389900</td>\n",
       "      <td>70.227900</td>\n",
       "      <td>POINT (70.227900 34.389900)</td>\n",
       "      <td>Afghanistan</td>\n",
       "      <td>Asia</td>\n",
       "      <td>7</td>\n",
       "      <td>0</td>\n",
       "      <td>0</td>\n",
       "      <td>1</td>\n",
       "      <td>0</td>\n",
       "      <td>0</td>\n",
       "    </tr>\n",
       "    <tr>\n",
       "      <td>2013</td>\n",
       "      <td>2018</td>\n",
       "      <td>1</td>\n",
       "      <td>1</td>\n",
       "      <td>Khaki Safed district</td>\n",
       "      <td>32.755167</td>\n",
       "      <td>62.073124</td>\n",
       "      <td>POINT (62.073124 32.755167)</td>\n",
       "      <td>Afghanistan</td>\n",
       "      <td>Asia</td>\n",
       "      <td>23</td>\n",
       "      <td>0</td>\n",
       "      <td>0</td>\n",
       "      <td>1</td>\n",
       "      <td>0</td>\n",
       "      <td>0</td>\n",
       "    </tr>\n",
       "    <tr>\n",
       "      <td>2014</td>\n",
       "      <td>2018</td>\n",
       "      <td>1</td>\n",
       "      <td>1</td>\n",
       "      <td>Khwaja Sabz Posh district</td>\n",
       "      <td>36.055429</td>\n",
       "      <td>64.978235</td>\n",
       "      <td>POINT (64.978235 36.055429)</td>\n",
       "      <td>Afghanistan</td>\n",
       "      <td>Asia</td>\n",
       "      <td>16</td>\n",
       "      <td>0</td>\n",
       "      <td>0</td>\n",
       "      <td>1</td>\n",
       "      <td>0</td>\n",
       "      <td>0</td>\n",
       "    </tr>\n",
       "  </tbody>\n",
       "</table>\n",
       "</div>"
      ],
      "text/plain": [
       "      year  active_year  type_of_violence          where_coordinates  \\\n",
       "2010  2018            1                 1         Qush Tepa district   \n",
       "2011  2018            1                 1        Imam Sahib district   \n",
       "2012  2018            1                 1          Bala Bagh village   \n",
       "2013  2018            1                 1       Khaki Safed district   \n",
       "2014  2018            1                 1  Khwaja Sabz Posh district   \n",
       "\n",
       "       latitude  longitude                     geom_wkt      country region  \\\n",
       "2010  36.193552  65.352724  POINT (65.352724 36.193552)  Afghanistan   Asia   \n",
       "2011  37.105713  68.851658  POINT (68.851658 37.105713)  Afghanistan   Asia   \n",
       "2012  34.389900  70.227900  POINT (70.227900 34.389900)  Afghanistan   Asia   \n",
       "2013  32.755167  62.073124  POINT (62.073124 32.755167)  Afghanistan   Asia   \n",
       "2014  36.055429  64.978235  POINT (64.978235 36.055429)  Afghanistan   Asia   \n",
       "\n",
       "      best  Africa  Americas  Asia  Europe  Middle East  \n",
       "2010    45       0         0     1       0            0  \n",
       "2011    28       0         0     1       0            0  \n",
       "2012     7       0         0     1       0            0  \n",
       "2013    23       0         0     1       0            0  \n",
       "2014    16       0         0     1       0            0  "
      ]
     },
     "execution_count": 6,
     "metadata": {},
     "output_type": "execute_result"
    }
   ],
   "source": [
    "# I create dummy variables for regions:\n",
    "region_dummy = pd.get_dummies(cw_year['region'])\n",
    "# I merge the two dataframes:\n",
    "cw_year = pd.concat([cw_year, region_dummy], axis=1)\n",
    "cw_year.head()"
   ]
  },
  {
   "cell_type": "code",
   "execution_count": 8,
   "metadata": {},
   "outputs": [
    {
     "data": {
      "text/plain": [
       "2018    9002\n",
       "Name: year, dtype: int64"
      ]
     },
     "execution_count": 8,
     "metadata": {},
     "output_type": "execute_result"
    },
    {
     "data": {
      "image/png": "[encoded data removed]",
      "text/plain": [
       "<Figure size 432x288 with 1 Axes>"
      ]
     },
     "metadata": {
      "needs_background": "light"
     },
     "output_type": "display_data"
    }
   ],
   "source": [
    "\n",
    "cw_year['region'].value_counts()\n",
    "\n",
    "Asia = cw_year['region'].value_counts().plot(kind='barh')\n",
    "\n"
   ]
  },
  {
   "cell_type": "code",
   "execution_count": null,
   "metadata": {},
   "outputs": [],
   "source": [
    "\n",
    "# We can now make the barplot showing outbreaks over time\n",
    "fig, ax = plt.subplots(figsize = (15,6))\n",
    "fig = cw_year.plot(x=\"region\", y=[\"best\"], kind=\"bar\", color=['lightblue'], width=2, ax=ax)\n",
    "\n",
    "x = cw_year['region']\n",
    "\n",
    "plt.title('Armed conflicts 2018')\n",
    "plt.ylabel('Deaths')\n",
    "plt.xlabel('region')\n",
    "\n",
    "plt.show()"
   ]
  },
  {
   "cell_type": "code",
   "execution_count": null,
   "metadata": {},
   "outputs": [],
   "source": [
    "print(5)\n"
   ]
  },
  {
   "cell_type": "code",
   "execution_count": null,
   "metadata": {},
   "outputs": [],
   "source": [
    "df_africa[\"count\"] = df_africa.groupby(\"year\")[\"best\"].transform('count')"
   ]
  },
  {
   "cell_type": "code",
   "execution_count": null,
   "metadata": {},
   "outputs": [],
   "source": []
  }
 ],
 "metadata": {
  "kernelspec": {
   "display_name": "Python 3",
   "language": "python",
   "name": "python3"
  },
  "language_info": {
   "codemirror_mode": {
    "name": "ipython",
    "version": 3
   },
   "file_extension": ".py",
   "mimetype": "text/x-python",
   "name": "python",
   "nbconvert_exporter": "python",
   "pygments_lexer": "ipython3",
   "version": "3.7.4"
  }
 },
 "nbformat": 4,
 "nbformat_minor": 4
}
