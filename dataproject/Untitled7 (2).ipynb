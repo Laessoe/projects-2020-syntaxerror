{
 "cells": [
  {
   "cell_type": "code",
   "execution_count": null,
   "metadata": {},
   "outputs": [],
   "source": []
  },
  {
   "cell_type": "code",
   "execution_count": null,
   "metadata": {},
   "outputs": [],
   "source": []
  },
  {
   "cell_type": "code",
   "execution_count": 13,
   "metadata": {},
   "outputs": [],
   "source": [
    "import os\n",
    "import numpy as np\n",
    "import pandas as pd\n",
    "from datetime import datetime\n",
    "\n",
    "import seaborn as sns\n",
    "import matplotlib.pyplot as plt\n",
    "\n",
    "from matplotlib import pyplot\n",
    "from matplotlib import dates\n",
    "\n",
    "import matplotlib.dates as mdates\n",
    "import matplotlib.ticker as plticker\n",
    "from matplotlib.dates import DateFormatter\n",
    "import time\n",
    "\n",
    "\n",
    "\n",
    "cw = pd.read_csv('ged191.csv')\n",
    "\n",
    "#Drop unwanted columns \n",
    "\n",
    "drop_these = ['id','low', 'high', 'event_clarity', 'date_prec', 'conflict_new_id', \n",
    "              'conflict_name','dyad_name', 'dyad_new_id','side_a_new_id','adm_1','adm_2', 'gwnoa', 'side_b_new_id', 'dyad_new_id', 'gwnob', 'number_of_sources'\n",
    "              , 'source_headline', 'priogrid_gid', 'source_date', 'source_office', 'source_article', \n",
    "              'source_original', 'deaths_a', 'deaths_b', 'deaths_civilians', 'deaths_unknown', 'date_start', \n",
    "              'date_end', 'country_id', 'side_a', 'side_b', 'where_prec', 'type_of_violence', 'active_year']\n",
    "\n",
    "\n",
    "cw.drop(drop_these, axis=1, inplace=True) # axis = 1 -> columns, inplace=True -> changed, no copy made\n",
    "\n",
    "\n",
    "cw_year = cw[cw.year == 2018]\n",
    "\n"
   ]
  },
  {
   "cell_type": "code",
   "execution_count": 14,
   "metadata": {},
   "outputs": [
    {
     "data": {
      "text/html": [
       "<div>\n",
       "<style scoped>\n",
       "    .dataframe tbody tr th:only-of-type {\n",
       "        vertical-align: middle;\n",
       "    }\n",
       "\n",
       "    .dataframe tbody tr th {\n",
       "        vertical-align: top;\n",
       "    }\n",
       "\n",
       "    .dataframe thead th {\n",
       "        text-align: right;\n",
       "    }\n",
       "</style>\n",
       "<table border=\"1\" class=\"dataframe\">\n",
       "  <thead>\n",
       "    <tr style=\"text-align: right;\">\n",
       "      <th></th>\n",
       "      <th>year</th>\n",
       "      <th>where_coordinates</th>\n",
       "      <th>latitude</th>\n",
       "      <th>longitude</th>\n",
       "      <th>geom_wkt</th>\n",
       "      <th>country</th>\n",
       "      <th>region</th>\n",
       "      <th>best</th>\n",
       "      <th>Africa</th>\n",
       "      <th>Americas</th>\n",
       "      <th>Asia</th>\n",
       "      <th>Europe</th>\n",
       "      <th>Middle East</th>\n",
       "    </tr>\n",
       "  </thead>\n",
       "  <tbody>\n",
       "    <tr>\n",
       "      <th>2010</th>\n",
       "      <td>2018</td>\n",
       "      <td>Qush Tepa district</td>\n",
       "      <td>36.193552</td>\n",
       "      <td>65.352724</td>\n",
       "      <td>POINT (65.352724 36.193552)</td>\n",
       "      <td>Afghanistan</td>\n",
       "      <td>Asia</td>\n",
       "      <td>45</td>\n",
       "      <td>0</td>\n",
       "      <td>0</td>\n",
       "      <td>1</td>\n",
       "      <td>0</td>\n",
       "      <td>0</td>\n",
       "    </tr>\n",
       "    <tr>\n",
       "      <th>2011</th>\n",
       "      <td>2018</td>\n",
       "      <td>Imam Sahib district</td>\n",
       "      <td>37.105713</td>\n",
       "      <td>68.851658</td>\n",
       "      <td>POINT (68.851658 37.105713)</td>\n",
       "      <td>Afghanistan</td>\n",
       "      <td>Asia</td>\n",
       "      <td>28</td>\n",
       "      <td>0</td>\n",
       "      <td>0</td>\n",
       "      <td>1</td>\n",
       "      <td>0</td>\n",
       "      <td>0</td>\n",
       "    </tr>\n",
       "    <tr>\n",
       "      <th>2012</th>\n",
       "      <td>2018</td>\n",
       "      <td>Bala Bagh village</td>\n",
       "      <td>34.389900</td>\n",
       "      <td>70.227900</td>\n",
       "      <td>POINT (70.227900 34.389900)</td>\n",
       "      <td>Afghanistan</td>\n",
       "      <td>Asia</td>\n",
       "      <td>7</td>\n",
       "      <td>0</td>\n",
       "      <td>0</td>\n",
       "      <td>1</td>\n",
       "      <td>0</td>\n",
       "      <td>0</td>\n",
       "    </tr>\n",
       "    <tr>\n",
       "      <th>2013</th>\n",
       "      <td>2018</td>\n",
       "      <td>Khaki Safed district</td>\n",
       "      <td>32.755167</td>\n",
       "      <td>62.073124</td>\n",
       "      <td>POINT (62.073124 32.755167)</td>\n",
       "      <td>Afghanistan</td>\n",
       "      <td>Asia</td>\n",
       "      <td>23</td>\n",
       "      <td>0</td>\n",
       "      <td>0</td>\n",
       "      <td>1</td>\n",
       "      <td>0</td>\n",
       "      <td>0</td>\n",
       "    </tr>\n",
       "    <tr>\n",
       "      <th>2014</th>\n",
       "      <td>2018</td>\n",
       "      <td>Khwaja Sabz Posh district</td>\n",
       "      <td>36.055429</td>\n",
       "      <td>64.978235</td>\n",
       "      <td>POINT (64.978235 36.055429)</td>\n",
       "      <td>Afghanistan</td>\n",
       "      <td>Asia</td>\n",
       "      <td>16</td>\n",
       "      <td>0</td>\n",
       "      <td>0</td>\n",
       "      <td>1</td>\n",
       "      <td>0</td>\n",
       "      <td>0</td>\n",
       "    </tr>\n",
       "  </tbody>\n",
       "</table>\n",
       "</div>"
      ],
      "text/plain": [
       "      year          where_coordinates   latitude  longitude  \\\n",
       "2010  2018         Qush Tepa district  36.193552  65.352724   \n",
       "2011  2018        Imam Sahib district  37.105713  68.851658   \n",
       "2012  2018          Bala Bagh village  34.389900  70.227900   \n",
       "2013  2018       Khaki Safed district  32.755167  62.073124   \n",
       "2014  2018  Khwaja Sabz Posh district  36.055429  64.978235   \n",
       "\n",
       "                         geom_wkt      country region  best  Africa  Americas  \\\n",
       "2010  POINT (65.352724 36.193552)  Afghanistan   Asia    45       0         0   \n",
       "2011  POINT (68.851658 37.105713)  Afghanistan   Asia    28       0         0   \n",
       "2012  POINT (70.227900 34.389900)  Afghanistan   Asia     7       0         0   \n",
       "2013  POINT (62.073124 32.755167)  Afghanistan   Asia    23       0         0   \n",
       "2014  POINT (64.978235 36.055429)  Afghanistan   Asia    16       0         0   \n",
       "\n",
       "      Asia  Europe  Middle East  \n",
       "2010     1       0            0  \n",
       "2011     1       0            0  \n",
       "2012     1       0            0  \n",
       "2013     1       0            0  \n",
       "2014     1       0            0  "
      ]
     },
     "execution_count": 14,
     "metadata": {},
     "output_type": "execute_result"
    }
   ],
   "source": [
    "# I create dummy variables for regions:\n",
    "region_dummy = pd.get_dummies(cw_year['region'])\n",
    "# I merge the two dataframes:\n",
    "cw_year = pd.concat([cw_year, region_dummy], axis=1)\n",
    "cw_year.head()"
   ]
  },
  {
   "cell_type": "code",
   "execution_count": 15,
   "metadata": {},
   "outputs": [
    {
     "data": {
      "image/png": "[encoded data removed]",
      "text/plain": [
       "<Figure size 432x288 with 1 Axes>"
      ]
     },
     "metadata": {
      "needs_background": "light"
     },
     "output_type": "display_data"
    }
   ],
   "source": [
    "\n",
    "cw_year['region'].value_counts()\n",
    "\n",
    "Asia = cw_year['region'].value_counts().plot(kind='barh')\n"
   ]
  },
  {
   "cell_type": "code",
   "execution_count": 16,
   "metadata": {},
   "outputs": [
    {
     "data": {
      "text/plain": [
       "<matplotlib.axes._subplots.AxesSubplot at 0x1a26d28290>"
      ]
     },
     "execution_count": 16,
     "metadata": {},
     "output_type": "execute_result"
    },
    {
     "data": {
      "image/png": "[encoded data removed]",
      "text/plain": [
       "<Figure size 432x288 with 1 Axes>"
      ]
     },
     "metadata": {
      "needs_background": "light"
     },
     "output_type": "display_data"
    }
   ],
   "source": [
    "cw_year['country'].value_counts().plot()"
   ]
  },
  {
   "cell_type": "code",
   "execution_count": 11,
   "metadata": {},
   "outputs": [
    {
     "data": {
      "text/plain": [
       "Afghanistan                 3722\n",
       "Mexico                       646\n",
       "Nigeria                      520\n",
       "Somalia                      486\n",
       "India                        475\n",
       "DR Congo (Zaire)             401\n",
       "Yemen (North Yemen)          333\n",
       "Iraq                         254\n",
       "Cameroon                     233\n",
       "Mali                         215\n",
       "Turkey                       163\n",
       "Ukraine                      151\n",
       "South Sudan                  147\n",
       "Philippines                  123\n",
       "Libya                        123\n",
       "Sudan                         90\n",
       "Brazil                        87\n",
       "Egypt                         82\n",
       "Pakistan                      77\n",
       "Central African Republic      77\n",
       "Kenya                         64\n",
       "Colombia                      57\n",
       "Ethiopia                      56\n",
       "Mozambique                    44\n",
       "Burkina Faso                  42\n",
       "Myanmar (Burma)               41\n",
       "Thailand                      40\n",
       "Burundi                       38\n",
       "Israel                        33\n",
       "Niger                         24\n",
       "Russia (Soviet Union)         21\n",
       "Bangladesh                    18\n",
       "Azerbaijan                    17\n",
       "Chad                          12\n",
       "Iran                          12\n",
       "Nicaragua                     12\n",
       "Algeria                       10\n",
       "France                         8\n",
       "Saudi Arabia                   8\n",
       "Indonesia                      7\n",
       "Angola                         6\n",
       "Tunisia                        6\n",
       "Rwanda                         3\n",
       "Uganda                         2\n",
       "Australia                      2\n",
       "Belgium                        2\n",
       "Zimbabwe (Rhodesia)            2\n",
       "Guinea                         2\n",
       "Senegal                        1\n",
       "Lebanon                        1\n",
       "Tajikistan                     1\n",
       "Tanzania                       1\n",
       "Haiti                          1\n",
       "Armenia                        1\n",
       "Congo                          1\n",
       "Djibouti                       1\n",
       "Name: country, dtype: int64"
      ]
     },
     "execution_count": 11,
     "metadata": {},
     "output_type": "execute_result"
    }
   ],
   "source": [
    "cw_year['country'].value_counts()"
   ]
  },
  {
   "cell_type": "code",
   "execution_count": 17,
   "metadata": {},
   "outputs": [
    {
     "name": "stdout",
     "output_type": "stream",
     "text": [
      "Countries: 56\n"
     ]
    },
    {
     "data": {
      "text/html": [
       "<div>\n",
       "<style scoped>\n",
       "    .dataframe tbody tr th:only-of-type {\n",
       "        vertical-align: middle;\n",
       "    }\n",
       "\n",
       "    .dataframe tbody tr th {\n",
       "        vertical-align: top;\n",
       "    }\n",
       "\n",
       "    .dataframe thead th {\n",
       "        text-align: right;\n",
       "    }\n",
       "</style>\n",
       "<table border=\"1\" class=\"dataframe\">\n",
       "  <thead>\n",
       "    <tr style=\"text-align: right;\">\n",
       "      <th></th>\n",
       "      <th>country</th>\n",
       "      <th>year</th>\n",
       "      <th>latitude</th>\n",
       "      <th>longitude</th>\n",
       "      <th>best</th>\n",
       "      <th>Africa</th>\n",
       "      <th>Americas</th>\n",
       "      <th>Asia</th>\n",
       "      <th>Europe</th>\n",
       "      <th>Middle East</th>\n",
       "      <th>Armed conflicts</th>\n",
       "    </tr>\n",
       "  </thead>\n",
       "  <tbody>\n",
       "    <tr>\n",
       "      <th>0</th>\n",
       "      <td>Afghanistan</td>\n",
       "      <td>7510996</td>\n",
       "      <td>126886.348193</td>\n",
       "      <td>250988.722889</td>\n",
       "      <td>26888</td>\n",
       "      <td>0.0</td>\n",
       "      <td>0.0</td>\n",
       "      <td>3722.0</td>\n",
       "      <td>0.0</td>\n",
       "      <td>0.0</td>\n",
       "      <td>3722</td>\n",
       "    </tr>\n",
       "    <tr>\n",
       "      <th>1</th>\n",
       "      <td>Algeria</td>\n",
       "      <td>20180</td>\n",
       "      <td>348.247775</td>\n",
       "      <td>45.884229</td>\n",
       "      <td>35</td>\n",
       "      <td>10.0</td>\n",
       "      <td>0.0</td>\n",
       "      <td>0.0</td>\n",
       "      <td>0.0</td>\n",
       "      <td>0.0</td>\n",
       "      <td>10</td>\n",
       "    </tr>\n",
       "    <tr>\n",
       "      <th>2</th>\n",
       "      <td>Angola</td>\n",
       "      <td>12108</td>\n",
       "      <td>-47.908549</td>\n",
       "      <td>101.475650</td>\n",
       "      <td>24</td>\n",
       "      <td>6.0</td>\n",
       "      <td>0.0</td>\n",
       "      <td>0.0</td>\n",
       "      <td>0.0</td>\n",
       "      <td>0.0</td>\n",
       "      <td>6</td>\n",
       "    </tr>\n",
       "    <tr>\n",
       "      <th>3</th>\n",
       "      <td>Armenia</td>\n",
       "      <td>2018</td>\n",
       "      <td>40.854687</td>\n",
       "      <td>45.577810</td>\n",
       "      <td>1</td>\n",
       "      <td>0.0</td>\n",
       "      <td>0.0</td>\n",
       "      <td>0.0</td>\n",
       "      <td>1.0</td>\n",
       "      <td>0.0</td>\n",
       "      <td>1</td>\n",
       "    </tr>\n",
       "    <tr>\n",
       "      <th>4</th>\n",
       "      <td>Australia</td>\n",
       "      <td>4036</td>\n",
       "      <td>-75.627222</td>\n",
       "      <td>289.926112</td>\n",
       "      <td>2</td>\n",
       "      <td>0.0</td>\n",
       "      <td>0.0</td>\n",
       "      <td>2.0</td>\n",
       "      <td>0.0</td>\n",
       "      <td>0.0</td>\n",
       "      <td>2</td>\n",
       "    </tr>\n",
       "  </tbody>\n",
       "</table>\n",
       "</div>"
      ],
      "text/plain": [
       "       country     year       latitude      longitude   best  Africa  \\\n",
       "0  Afghanistan  7510996  126886.348193  250988.722889  26888     0.0   \n",
       "1      Algeria    20180     348.247775      45.884229     35    10.0   \n",
       "2       Angola    12108     -47.908549     101.475650     24     6.0   \n",
       "3      Armenia     2018      40.854687      45.577810      1     0.0   \n",
       "4    Australia     4036     -75.627222     289.926112      2     0.0   \n",
       "\n",
       "   Americas    Asia  Europe  Middle East  Armed conflicts  \n",
       "0       0.0  3722.0     0.0          0.0             3722  \n",
       "1       0.0     0.0     0.0          0.0               10  \n",
       "2       0.0     0.0     0.0          0.0                6  \n",
       "3       0.0     0.0     1.0          0.0                1  \n",
       "4       0.0     2.0     0.0          0.0                2  "
      ]
     },
     "execution_count": 17,
     "metadata": {},
     "output_type": "execute_result"
    }
   ],
   "source": [
    "# Grouping by 'Date' I can make a timeline plotting number of outbreaks pr. day:\n",
    "grouped = cw_year.groupby('country')\n",
    "\n",
    "cw_year_count = grouped.count()\n",
    "cw_year_grouped = grouped.sum()\n",
    "\n",
    "cw_year_grouped['Armed conflicts'] = cw_year_count['best']\n",
    "cw_year_grouped.reset_index(inplace=True)\n",
    "\n",
    "print('Countries:', len(cw_year_grouped))\n",
    "cw_year_grouped.head(5)"
   ]
  },
  {
   "cell_type": "code",
   "execution_count": 18,
   "metadata": {},
   "outputs": [
    {
     "data": {
      "image/png": "[encoded data removed]",
      "text/plain": [
       "<Figure size 1080x432 with 1 Axes>"
      ]
     },
     "metadata": {
      "needs_background": "light"
     },
     "output_type": "display_data"
    }
   ],
   "source": [
    "fig, ax = plt.subplots(figsize = (15,6))\n",
    "fig = cw_year_grouped.plot(x=\"country\", y=[\"Africa\" , \"Asia\", \"Europe\", \"Middle East\", \"Americas\"], kind=\"bar\", color=['lightpink', 'lightblue', 'red' , 'lightyellow', 'lightgreen'], width=2, ax=ax)\n",
    "\n",
    "x = cw_year_grouped['country']\n",
    "\n",
    "plt.title('Armed conflicts in 2018')\n",
    "plt.ylabel('Armed conflicts')\n",
    "plt.xlabel('Country')\n",
    "\n",
    "plt.show()"
   ]
  },
  {
   "cell_type": "code",
   "execution_count": null,
   "metadata": {},
   "outputs": [],
   "source": []
  }
 ],
 "metadata": {
  "kernelspec": {
   "display_name": "Python 3",
   "language": "python",
   "name": "python3"
  },
  "language_info": {
   "codemirror_mode": {
    "name": "ipython",
    "version": 3
   },
   "file_extension": ".py",
   "mimetype": "text/x-python",
   "name": "python",
   "nbconvert_exporter": "python",
   "pygments_lexer": "ipython3",
   "version": "3.7.7"
  }
 },
 "nbformat": 4,
 "nbformat_minor": 4
}
